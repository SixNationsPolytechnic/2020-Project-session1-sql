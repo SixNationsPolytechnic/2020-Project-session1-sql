{
 "cells": [
  {
   "cell_type": "markdown",
   "metadata": {},
   "source": [
    " # This a Test"
   ]
  },
  {
   "cell_type": "code",
   "execution_count": 1,
   "metadata": {
    "scrolled": true
   },
   "outputs": [
    {
     "name": "stdout",
     "output_type": "stream",
     "text": [
      "Start\n"
     ]
    }
   ],
   "source": [
    "print(\"Start\")\n",
    "import ibm_db\n",
    "import ibm_db_dbi\n",
    "import pandas\n",
    "import matplotlib.pyplot as plt"
   ]
  },
  {
   "cell_type": "code",
   "execution_count": 2,
   "metadata": {},
   "outputs": [],
   "source": [
    "#Enter the values for you database connection\n",
    "dsn_driver = \"IBM DB2 ODBC DRIVER\"\n",
    "dsn_database = \"BLUDB\" # e.g. \"BLUDB\"\n",
    "dsn_hostname = \"db2w-seirbtf.us-south.db2w.cloud.ibm.com\" # e.g.: \"abc.url.example\"\n",
    "dsn_port = \"50001\"    # e.g. \"50000\"\n",
    "dsn_uid = \"\"     # e.g. \"db2_1234\"\n",
    "dsn_pwd = \"\"     # e.g. \"zorglub\""
   ]
  },
  {
   "cell_type": "code",
   "execution_count": 3,
   "metadata": {},
   "outputs": [],
   "source": [
    "dsn = (\n",
    "    \"DRIVER={{IBM DB2 ODBC DRIVER}};\"\n",
    "    \"DATABASE={0};\"\n",
    "    \"HOSTNAME={1};\"\n",
    "    \"PORT={2};\"\n",
    "    \"PROTOCOL=TCPIP;\"\n",
    "    \"UID={3};\"\n",
    "    \"PWD={4};\"\n",
    "    \"Security={{SSL}};\").format(dsn_database, dsn_hostname, dsn_port, dsn_uid, dsn_pwd)\n",
    "#dsn = (DATABASE=BLUDB;HOSTNAME=db2w-seirbtf.us-south.db2w.cloud.ibm.com;PORT=50001;PROTOCOL=TCPIP;UID=bluadmin;PWD=JsE3RRmBHC6d0udG@jjoCa3HsKtsS;Security=SSL;)\n",
    "dsn = \"DATABASE=BLUDB;HOSTNAME=db2w-seirbtf.us-south.db2w.cloud.ibm.com;PORT=50001;PROTOCOL=TCPIP;UID=bluadmin;PWD=JsE3RRmBHC6d0udG@jjoCa3HsKtsS;Security=SSL;\"\n",
    "conn = ibm_db.connect(dsn, \"\", \"\")\n",
    "hdbi = ibm_db_dbi.Connection(conn)"
   ]
  },
  {
   "cell_type": "code",
   "execution_count": 7,
   "metadata": {},
   "outputs": [
    {
     "ename": "SyntaxError",
     "evalue": "unexpected EOF while parsing (<ipython-input-7-560c8fc0309c>, line 10)",
     "output_type": "error",
     "traceback": [
      "\u001b[0;36m  File \u001b[0;32m\"<ipython-input-7-560c8fc0309c>\"\u001b[0;36m, line \u001b[0;32m10\u001b[0m\n\u001b[0;31m    @df.hist()\u001b[0m\n\u001b[0m              ^\u001b[0m\n\u001b[0;31mSyntaxError\u001b[0m\u001b[0;31m:\u001b[0m unexpected EOF while parsing\n"
     ]
    }
   ],
   "source": [
    "# test query\n",
    "query = \"SELECT * FROM DB2INST1.SNP21;\"\n",
    "# run direct SQL\n",
    "#stmt = ibm_db.exec_immediate(conn, query)\n",
    "#ibm_db.fetch_both(stmt)\n",
    "\n",
    "df = pandas.read_sql(query,hdbi)\n",
    "df2 = pandas.read_sql(query,hdbi)\n",
    "#df.info()\n",
    "#df.hist()\n"
   ]
  },
  {
   "cell_type": "code",
   "execution_count": 5,
   "metadata": {},
   "outputs": [
    {
     "data": {
      "text/html": [
       "<div>\n",
       "<style scoped>\n",
       "    .dataframe tbody tr th:only-of-type {\n",
       "        vertical-align: middle;\n",
       "    }\n",
       "\n",
       "    .dataframe tbody tr th {\n",
       "        vertical-align: top;\n",
       "    }\n",
       "\n",
       "    .dataframe thead th {\n",
       "        text-align: right;\n",
       "    }\n",
       "</style>\n",
       "<table border=\"1\" class=\"dataframe\">\n",
       "  <thead>\n",
       "    <tr style=\"text-align: right;\">\n",
       "      <th></th>\n",
       "      <th>Date</th>\n",
       "      <th>Time</th>\n",
       "      <th>TS</th>\n",
       "      <th>Group</th>\n",
       "      <th>Location</th>\n",
       "      <th>Temperature</th>\n",
       "      <th>Humidity</th>\n",
       "      <th>Pressure</th>\n",
       "      <th>Comment</th>\n",
       "      <th>TIMESTAMP</th>\n",
       "    </tr>\n",
       "  </thead>\n",
       "  <tbody>\n",
       "    <tr>\n",
       "      <th>0</th>\n",
       "      <td>2020-02-25</td>\n",
       "      <td>10:00:00</td>\n",
       "      <td>1582670000000</td>\n",
       "      <td>snp21</td>\n",
       "      <td>LocationLocation</td>\n",
       "      <td>24.11</td>\n",
       "      <td>1000.12</td>\n",
       "      <td>1000.12</td>\n",
       "      <td>wwwwwwwwwwwwqqqldsflsdjfhsdhfhsdhfwwwwwwwwwwww...</td>\n",
       "      <td>2020-02-25 21:21:15</td>\n",
       "    </tr>\n",
       "    <tr>\n",
       "      <th>1</th>\n",
       "      <td>2020-02-25</td>\n",
       "      <td>10:01:00</td>\n",
       "      <td>1582670000000</td>\n",
       "      <td>snp21</td>\n",
       "      <td>Markus SNP</td>\n",
       "      <td>-10.51</td>\n",
       "      <td>1000.12</td>\n",
       "      <td>1000.12</td>\n",
       "      <td>Markus SNPMarkus SNPMarkus SNPMarkus SNPMarkus...</td>\n",
       "      <td>2020-02-25 21:21:15</td>\n",
       "    </tr>\n",
       "    <tr>\n",
       "      <th>2</th>\n",
       "      <td>2020-08-12</td>\n",
       "      <td>22:28:54</td>\n",
       "      <td>1582669734515</td>\n",
       "      <td>SNP21</td>\n",
       "      <td>LOC02</td>\n",
       "      <td>53.01</td>\n",
       "      <td>1800.00</td>\n",
       "      <td>2000.00</td>\n",
       "      <td>Test1</td>\n",
       "      <td>NaT</td>\n",
       "    </tr>\n",
       "    <tr>\n",
       "      <th>3</th>\n",
       "      <td>2020-08-12</td>\n",
       "      <td>23:57:50</td>\n",
       "      <td>1582675070639</td>\n",
       "      <td>SNP21</td>\n",
       "      <td>LOC02</td>\n",
       "      <td>78.01</td>\n",
       "      <td>1800.00</td>\n",
       "      <td>2000.00</td>\n",
       "      <td>Test1</td>\n",
       "      <td>2020-02-25 23:57:50</td>\n",
       "    </tr>\n",
       "    <tr>\n",
       "      <th>4</th>\n",
       "      <td>2020-08-13</td>\n",
       "      <td>00:02:41</td>\n",
       "      <td>1582675361363</td>\n",
       "      <td>SNP21</td>\n",
       "      <td>LOC02</td>\n",
       "      <td>3.01</td>\n",
       "      <td>1800.00</td>\n",
       "      <td>2000.00</td>\n",
       "      <td>Test1</td>\n",
       "      <td>2020-02-26 00:02:41</td>\n",
       "    </tr>\n",
       "    <tr>\n",
       "      <th>5</th>\n",
       "      <td>2020-08-13</td>\n",
       "      <td>00:14:13</td>\n",
       "      <td>1582676053304</td>\n",
       "      <td>SNP21</td>\n",
       "      <td>LOC02</td>\n",
       "      <td>64.01</td>\n",
       "      <td>1800.00</td>\n",
       "      <td>2000.00</td>\n",
       "      <td>Test1</td>\n",
       "      <td>2020-02-26 00:14:13</td>\n",
       "    </tr>\n",
       "    <tr>\n",
       "      <th>6</th>\n",
       "      <td>2020-08-13</td>\n",
       "      <td>00:15:18</td>\n",
       "      <td>1582676118003</td>\n",
       "      <td>SNP21</td>\n",
       "      <td>LOC02</td>\n",
       "      <td>48.01</td>\n",
       "      <td>1800.00</td>\n",
       "      <td>2000.00</td>\n",
       "      <td>Test1</td>\n",
       "      <td>2020-02-26 00:15:18</td>\n",
       "    </tr>\n",
       "    <tr>\n",
       "      <th>7</th>\n",
       "      <td>2020-08-13</td>\n",
       "      <td>00:15:23</td>\n",
       "      <td>1582676123004</td>\n",
       "      <td>SNP21</td>\n",
       "      <td>LOC02</td>\n",
       "      <td>32.01</td>\n",
       "      <td>1800.00</td>\n",
       "      <td>2000.00</td>\n",
       "      <td>Test1</td>\n",
       "      <td>2020-02-26 00:15:23</td>\n",
       "    </tr>\n",
       "    <tr>\n",
       "      <th>8</th>\n",
       "      <td>2020-08-13</td>\n",
       "      <td>01:54:50</td>\n",
       "      <td>1582682090696</td>\n",
       "      <td>SNP21</td>\n",
       "      <td>LOC02</td>\n",
       "      <td>0.01</td>\n",
       "      <td>1800.00</td>\n",
       "      <td>2000.00</td>\n",
       "      <td>Test1</td>\n",
       "      <td>2020-02-26 01:54:50</td>\n",
       "    </tr>\n",
       "    <tr>\n",
       "      <th>9</th>\n",
       "      <td>2020-08-13</td>\n",
       "      <td>01:54:55</td>\n",
       "      <td>1582682095724</td>\n",
       "      <td>SNP21</td>\n",
       "      <td>LOC02</td>\n",
       "      <td>28.01</td>\n",
       "      <td>1800.00</td>\n",
       "      <td>2000.00</td>\n",
       "      <td>Test1</td>\n",
       "      <td>2020-02-26 01:54:55</td>\n",
       "    </tr>\n",
       "    <tr>\n",
       "      <th>10</th>\n",
       "      <td>2020-08-13</td>\n",
       "      <td>01:55:17</td>\n",
       "      <td>1582682117987</td>\n",
       "      <td>SNP21</td>\n",
       "      <td>LOC02</td>\n",
       "      <td>37.01</td>\n",
       "      <td>1800.00</td>\n",
       "      <td>2000.00</td>\n",
       "      <td>Test1</td>\n",
       "      <td>2020-02-26 01:55:17</td>\n",
       "    </tr>\n",
       "    <tr>\n",
       "      <th>11</th>\n",
       "      <td>2020-08-13</td>\n",
       "      <td>01:55:21</td>\n",
       "      <td>1582682121365</td>\n",
       "      <td>SNP21</td>\n",
       "      <td>LOC02</td>\n",
       "      <td>8.01</td>\n",
       "      <td>1800.00</td>\n",
       "      <td>2000.00</td>\n",
       "      <td>Test1</td>\n",
       "      <td>2020-02-26 01:55:21</td>\n",
       "    </tr>\n",
       "    <tr>\n",
       "      <th>12</th>\n",
       "      <td>2020-08-13</td>\n",
       "      <td>01:55:22</td>\n",
       "      <td>1582682122990</td>\n",
       "      <td>SNP21</td>\n",
       "      <td>LOC02</td>\n",
       "      <td>57.01</td>\n",
       "      <td>1800.00</td>\n",
       "      <td>2000.00</td>\n",
       "      <td>Test1</td>\n",
       "      <td>2020-02-26 01:55:22</td>\n",
       "    </tr>\n",
       "    <tr>\n",
       "      <th>13</th>\n",
       "      <td>2020-08-13</td>\n",
       "      <td>01:55:26</td>\n",
       "      <td>1582682126366</td>\n",
       "      <td>SNP21</td>\n",
       "      <td>LOC02</td>\n",
       "      <td>4.01</td>\n",
       "      <td>1800.00</td>\n",
       "      <td>2000.00</td>\n",
       "      <td>Test1</td>\n",
       "      <td>2020-02-26 01:55:26</td>\n",
       "    </tr>\n",
       "  </tbody>\n",
       "</table>\n",
       "</div>"
      ],
      "text/plain": [
       "          Date      Time             TS  Group          Location  Temperature  \\\n",
       "0   2020-02-25  10:00:00  1582670000000  snp21  LocationLocation        24.11   \n",
       "1   2020-02-25  10:01:00  1582670000000  snp21        Markus SNP       -10.51   \n",
       "2   2020-08-12  22:28:54  1582669734515  SNP21             LOC02        53.01   \n",
       "3   2020-08-12  23:57:50  1582675070639  SNP21             LOC02        78.01   \n",
       "4   2020-08-13  00:02:41  1582675361363  SNP21             LOC02         3.01   \n",
       "5   2020-08-13  00:14:13  1582676053304  SNP21             LOC02        64.01   \n",
       "6   2020-08-13  00:15:18  1582676118003  SNP21             LOC02        48.01   \n",
       "7   2020-08-13  00:15:23  1582676123004  SNP21             LOC02        32.01   \n",
       "8   2020-08-13  01:54:50  1582682090696  SNP21             LOC02         0.01   \n",
       "9   2020-08-13  01:54:55  1582682095724  SNP21             LOC02        28.01   \n",
       "10  2020-08-13  01:55:17  1582682117987  SNP21             LOC02        37.01   \n",
       "11  2020-08-13  01:55:21  1582682121365  SNP21             LOC02         8.01   \n",
       "12  2020-08-13  01:55:22  1582682122990  SNP21             LOC02        57.01   \n",
       "13  2020-08-13  01:55:26  1582682126366  SNP21             LOC02         4.01   \n",
       "\n",
       "    Humidity  Pressure                                            Comment  \\\n",
       "0    1000.12   1000.12  wwwwwwwwwwwwqqqldsflsdjfhsdhfhsdhfwwwwwwwwwwww...   \n",
       "1    1000.12   1000.12  Markus SNPMarkus SNPMarkus SNPMarkus SNPMarkus...   \n",
       "2    1800.00   2000.00                                              Test1   \n",
       "3    1800.00   2000.00                                              Test1   \n",
       "4    1800.00   2000.00                                              Test1   \n",
       "5    1800.00   2000.00                                              Test1   \n",
       "6    1800.00   2000.00                                              Test1   \n",
       "7    1800.00   2000.00                                              Test1   \n",
       "8    1800.00   2000.00                                              Test1   \n",
       "9    1800.00   2000.00                                              Test1   \n",
       "10   1800.00   2000.00                                              Test1   \n",
       "11   1800.00   2000.00                                              Test1   \n",
       "12   1800.00   2000.00                                              Test1   \n",
       "13   1800.00   2000.00                                              Test1   \n",
       "\n",
       "             TIMESTAMP  \n",
       "0  2020-02-25 21:21:15  \n",
       "1  2020-02-25 21:21:15  \n",
       "2                  NaT  \n",
       "3  2020-02-25 23:57:50  \n",
       "4  2020-02-26 00:02:41  \n",
       "5  2020-02-26 00:14:13  \n",
       "6  2020-02-26 00:15:18  \n",
       "7  2020-02-26 00:15:23  \n",
       "8  2020-02-26 01:54:50  \n",
       "9  2020-02-26 01:54:55  \n",
       "10 2020-02-26 01:55:17  \n",
       "11 2020-02-26 01:55:21  \n",
       "12 2020-02-26 01:55:22  \n",
       "13 2020-02-26 01:55:26  "
      ]
     },
     "execution_count": 5,
     "metadata": {},
     "output_type": "execute_result"
    }
   ],
   "source": [
    "df"
   ]
  },
  {
   "cell_type": "code",
   "execution_count": 6,
   "metadata": {},
   "outputs": [
    {
     "name": "stderr",
     "output_type": "stream",
     "text": [
      "/opt/conda/envs/Python36/lib/python3.6/site-packages/ipykernel/__main__.py:1: UserWarning: Pandas doesn't allow columns to be created via a new attribute name - see https://pandas.pydata.org/pandas-docs/stable/indexing.html#attribute-access\n",
      "  if __name__ == '__main__':\n"
     ]
    },
    {
     "data": {
      "text/plain": [
       "<matplotlib.axes._subplots.AxesSubplot at 0x7fa1bf2cdf98>"
      ]
     },
     "execution_count": 6,
     "metadata": {},
     "output_type": "execute_result"
    },
    {
     "data": {
      "image/png": "[encoded data removed]",
      "text/plain": [
       "<Figure size 1440x720 with 1 Axes>"
      ]
     },
     "metadata": {
      "needs_background": "light"
     },
     "output_type": "display_data"
    }
   ],
   "source": [
    "df.month = pandas.to_datetime(df.TIMESTAMP)\n",
    "df.set_index('TIMESTAMP', inplace=True)\n",
    "df[['Temperature']].plot(figsize=(20,10), linewidth=5, fontsize=10)\n",
    "#plt.xlabel('Time', fontsize=10);\n",
    "#print(df.head)\n"
   ]
  },
  {
   "cell_type": "code",
   "execution_count": 80,
   "metadata": {},
   "outputs": [
    {
     "data": {
      "text/plain": [
       "<matplotlib.axes._subplots.AxesSubplot at 0x7fcd69713320>"
      ]
     },
     "execution_count": 80,
     "metadata": {},
     "output_type": "execute_result"
    },
    {
     "data": {
      "image/png": "[encoded data removed]",
      "text/plain": [
       "<Figure size 1440x720 with 1 Axes>"
      ]
     },
     "metadata": {
      "needs_background": "light"
     },
     "output_type": "display_data"
    }
   ],
   "source": [
    "\n",
    "\n",
    "#df2[['Temperature','TS']].plot(figsize=(20,10), linewidth=5, fontsize=10)\n",
    "# Use kind='hbar' for horizontal bars, and stacked=True to stack the groups\n",
    "#df2.plot(kind='bar')\n",
    "#df2.plot(x='TIMESTAMP')\n",
    "\n"
   ]
  },
  {
   "cell_type": "code",
   "execution_count": null,
   "metadata": {},
   "outputs": [],
   "source": []
  }
 ],
 "metadata": {
  "kernelspec": {
   "display_name": "Python 3.6",
   "language": "python",
   "name": "python3"
  },
  "language_info": {
   "codemirror_mode": {
    "name": "ipython",
    "version": 3
   },
   "file_extension": ".py",
   "mimetype": "text/x-python",
   "name": "python",
   "nbconvert_exporter": "python",
   "pygments_lexer": "ipython3",
   "version": "3.6.9"
  }
 },
 "nbformat": 4,
 "nbformat_minor": 1
}
